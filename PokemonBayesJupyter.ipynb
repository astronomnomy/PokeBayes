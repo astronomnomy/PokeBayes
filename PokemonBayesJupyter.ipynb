{
 "cells": [
  {
   "cell_type": "markdown",
   "metadata": {},
   "source": [
    "Currently the requirements to get IV estimates are:\n",
    " - Your player level (which must remain constant as you're leveling this pokémon)\n",
    " - The pokémon's CP, HP, and stardust requirements for the next level\n",
    " - Every additional line of data added must be from only one power up (i.e. don't power up many times without also including those values in the table\n",
    " \n",
    " In the near future I will add the ability to:\n",
    " - Specify the pokémon's level or a range of levels to add in as a prior\n",
    " - Specify whether the pokémon was caught in the \"wild\" or from an \"egg\", and whether you've powered it up or not yet \n",
    " - Put in any data and indicate if any power-up levels have been skipped\n"
   ]
  },
  {
   "cell_type": "markdown",
   "metadata": {},
   "source": [
    "### What is your player level?"
   ]
  },
  {
   "cell_type": "code",
   "execution_count": 4,
   "metadata": {
    "collapsed": true
   },
   "outputs": [],
   "source": [
    "playerLevel = 40"
   ]
  },
  {
   "cell_type": "markdown",
   "metadata": {},
   "source": [
    "### What is the pokémon's name? (type in quote marks)"
   ]
  },
  {
   "cell_type": "code",
   "execution_count": 5,
   "metadata": {
    "collapsed": true
   },
   "outputs": [],
   "source": [
    "pokemonName= \"sandshrew\""
   ]
  },
  {
   "cell_type": "markdown",
   "metadata": {},
   "source": [
    "### First data set! Put in the pokémon's CP, HP, and stardust to level"
   ]
  },
  {
   "cell_type": "code",
   "execution_count": 10,
   "metadata": {
    "collapsed": true
   },
   "outputs": [],
   "source": [
    "#data=(232,42,1900) #pidgey\n",
    "#data=(1095,131,1300) #evil lapras\n",
    "data=(219,47,1000) #mudball Jnr lv 1\n",
    "#data=(230,48,1000) #mudball Jnr lv 2\n",
    "#data=(241,50,1300) #mudball Jnr lv 3\n",
    "#data=(287,36,1900) #ekans1\n",
    "#data=(246,35,1300) #ekans2\n",
    "#data=(174,53,600) #rhyhorn lv 1\n",
    "#data=(191,55,600) #rhyhorn lv 2\n",
    "#data=(209,58,600) #rhyhorn lv 3\n",
    "#data=(226,60,800) #rhyhorn lv 4\n",
    "#data=(727,83,1300) #Hypno lv 1\n",
    "#data=(758,85,1300) #Hypno lv 2\n",
    "#data=(788,87,1600) #Hypno lv 3\n",
    "#data=(540,60,1300) #Weepingbell lv 1\n",
    "#data=(563,61,1300) #Weepingbell lv 2\n",
    "#data=(585,62,1600) #Weepingbell lv 3\n",
    "data=(237,45,1600) #pidgey lv 1\n",
    "data=(246,46,1600) #pidgey lv 2\n",
    "data=(255,47,1600) #pidgey lv 3\n",
    "data=(264,48,1600) #pidgey lv 4\n",
    "data=(272,49,1900) #pidgey lv 5\n",
    "data=(283,49,1900) #pidgey lv 6\n",
    "data=(292,50,1900) #pidgey lv 7\n",
    "data=(301,51,1900) #pidgey lv 8 (but can't level)"
   ]
  },
  {
   "cell_type": "markdown",
   "metadata": {},
   "source": [
    "##### Code is going to chug along now"
   ]
  },
  {
   "cell_type": "code",
   "execution_count": 9,
   "metadata": {
    "collapsed": false
   },
   "outputs": [
    {
     "name": "stdout",
     "output_type": "stream",
     "text": [
      "{'lapras': (260, 186, 190), 'sandshrew': (100, 90, 114), 'rhyhorn': (160, 110, 116), 'ekans': (70, 112, 112), 'pidgey': (80, 94, 90)}\n",
      "min/max possible stardust 200 12000\n",
      "min/max possible CP 10.0 798.0\n",
      "min/max possible HP 10.0 90.0\n",
      "\n",
      "Number of possible stamina, attack and defense ivs, and levels:  0\n",
      "possible iv HP values given HP: [0, 1, 2, 3, 4, 5, 7, 8, 9, 10, 12, 13, 15]\n",
      "possible iv HP values given SD: [0, 1, 2, 3, 4, 5, 6, 7, 8, 9, 10, 11, 12, 13, 14, 15]\n",
      "possible levels given HP:  [12.5, 11.5, 10.5, 10.0, 11.0, 12.0, 9.5]\n",
      "possible levels given SD:  [8.0, 8.5, 9.5, 9.0]\n",
      "[]\n",
      "\n",
      "All possible combinations:\n"
     ]
    },
    {
     "name": "stderr",
     "output_type": "stream",
     "text": [
      "/Library/Python/2.7/site-packages/ipykernel/__main__.py:122: DeprecationWarning: Implicitly casting between incompatible kinds. In a future numpy release, this will raise an error. Use casting=\"unsafe\" if this is intentional.\n"
     ]
    }
   ],
   "source": [
    "%matplotlib inline\n",
    "import numpy as np\n",
    "import matplotlib.pyplot as plt\n",
    "import pokedicts as pd\n",
    "\n",
    "print pd.pokemonToBaseStats\n",
    "baseSta,baseAtt,baseDef = pd.pokemonToBaseStats[pokemonName]\n",
    "\n",
    "dataCP,dataHP,dataSD=data\n",
    "\n",
    "#HP IV calc is easiest\n",
    "#HP = (basestamina + ivstamina)*TotalCPMultiplier\n",
    "\n",
    "#CP = MAX(10,FLOOR(HP**0.5*Attack*Def**0.5/10))\n",
    "#where\n",
    "#Attack = (baseatt + ivatt)*TotalCPMultiplier\n",
    "#Defense= (basedef + ivdef)*TotalCPMultiplier\n",
    "#TCpM =\n",
    "#CP= MAX(10,FLOOR( (basesta+ivsta)**2 * (basedef+ivatt) * (basedef+ivdef)**2 ) * TCpM**2/10)\n",
    "#CP=f(ivsta,ivatt,ivdef)TCpM(level)\n",
    "#HP=h(ivsta)\n",
    "\n",
    "#I can calculate p(CP|ivsta,ivatt,ivdef,level), p(HP|ivsta,level), p(stardust|level)\n",
    "#want p(ivsta|HP,CP), p(ivatt|CP), p(ivdef|CP), p(level|stardust,CP,HP) ????\n",
    "\n",
    "# Try just using stardust for level\n",
    "# p(level|stardust)=p(stardust|level)*p(level)/p(stardust)\n",
    "# can immediately restrict p(level) given the player level.\n",
    "\n",
    "\n",
    "map1d_level=(np.arange(79)+2.)/2.\n",
    "\n",
    "map1d_Att=np.arange(16)\n",
    "map1d_Def=np.arange(16)\n",
    "map1d_Sta=np.arange(16)\n",
    "\n",
    "#probability of pokemon level\n",
    "p_level = np.zeros(79)\n",
    "p_level[map1d_level <= playerLevel]=1\n",
    "p_level/=np.sum(p_level)\n",
    "\n",
    "#print p_level\n",
    "\n",
    "#p_stardust is already set and is again dependent on player level\n",
    "#p(stardust|player)=p(player|stardust)*p(stardust)/p(player)\n",
    "#p(player) is a complete given so p(player)=1, equation reduces to\n",
    "# # p(stardust|player) as this is calculable yay!\n",
    "\n",
    "\n",
    "#full list of stardusts:\n",
    "#allPossibleStardusts = np.array([levelToStardust[x] for x in map_level])\n",
    "\n",
    "#BUT some stardusts are impossible given the player level, mark some as impossible\n",
    "#allPossibleStardusts[(map_level > playerLevel*2)-1] = -1\n",
    "#setStardusts = np.sort(np.array(list(set(allPossibleStardusts).remove(-1))))\n",
    "#\n",
    "#print allPossibleStardusts\n",
    "#print setStardusts\n",
    "#p_stardust = np.array([allPossibleStardusts.count(x) for x in setStardusts],dtype=float)\n",
    "#p_stardust/=np.float(np.sum(p_stardust))\n",
    "#\n",
    "#print p_stardust\n",
    "\n",
    "\n",
    "#Easiest thing to do would be to calculate all values? 16 x 16 x 16 x 82 pokemon levels?\n",
    "#That x82 is going to be really inefficient\n",
    "#Can do 16x16x16 itself and then use matrix multiplication to work out the other\n",
    "\n",
    "staAttDefLv=np.zeros((16,16,16,44))\n",
    "#map_staAttDefLv=np.array([mapSta,mapAtt,mapDef,map_level])\n",
    "\n",
    "atta=map1d_Att+baseAtt\n",
    "defe=map1d_Def+baseDef\n",
    "stam=map1d_Sta+baseSta\n",
    "\n",
    "TCpM= np.array([pd.levelToTCpM[i] for i in map1d_level])\n",
    "\n",
    "map_sta, map_att, map_def, map_level=np.meshgrid(stam,atta,defe,map1d_level, indexing='ij')\n",
    "\n",
    "####\n",
    "#Construct initial prior:\n",
    "prior_STATDELV=np.ones(map_sta.shape,dtype=\"float\")\n",
    "\n",
    "#normalise prior\n",
    "prior_STATDELV/=np.sum(prior_STATDELV)\n",
    "####\n",
    "\n",
    "\n",
    "\n",
    "map_TCpM= np.array([pd.levelToTCpM[i] for i in map_level.ravel()]).reshape(map_level.shape)\n",
    "allPossibleSD=np.array([pd.levelToStardust[i] \\\n",
    "                        for i in map_level.ravel()]).reshape(map_level.shape)\n",
    "\n",
    "\n",
    "###allPossibleHP =np.floor((map_sta+baseSta)*map_TCpM) ########\n",
    "allPossibleHP =np.floor(map_sta*map_TCpM) ########\n",
    "allPossibleHP[allPossibleHP<10]=10\n",
    "\n",
    "allPossibleCP = np.floor((map_sta**0.5*map_att*map_def**0.5*map_TCpM**2)/10.)\n",
    "allPossibleCP[allPossibleCP<10]=10\n",
    "\n",
    "\n",
    "print \"min/max possible stardust\", np.min(allPossibleSD), np.max(allPossibleSD)\n",
    "print \"min/max possible CP\", np.min(allPossibleCP), np.max(allPossibleCP)\n",
    "print \"min/max possible HP\", np.min(allPossibleHP), np.max(allPossibleHP)\n",
    "\n",
    "\n",
    "LH_CP=(allPossibleCP == dataCP) #this is in STATDELV space\n",
    "LH_HP=(allPossibleHP == dataHP)\n",
    "LH_SD=(allPossibleSD == dataSD)\n",
    "\n",
    "\n",
    "LH_Joint=LH_CP*LH_HP*LH_SD ######### REMOVING SD DEPENDENCE\n",
    "print \"\\nNumber of possible stamina, attack and defense ivs, and levels: \", np.sum(LH_Joint)\n",
    "#Fold in the previous posterior as a prior\n",
    "\n",
    "\n",
    "print \"possible iv HP values given HP:\",list(set(map_sta[LH_HP]-baseSta))\n",
    "print \"possible iv HP values given SD:\",list(set(map_sta[LH_SD]-baseSta))\n",
    "print \"possible levels given HP: \",list(set(map_level[LH_HP]))\n",
    "print \"possible levels given SD: \",list(set(map_level[LH_SD]))\n",
    "\n",
    "LH_Joint*=prior_STATDELV\n",
    "\n",
    "#find all cominations of ivs and lvs\n",
    "possible_STATDELV=np.array([map_sta[LH_Joint]-baseSta,\\\n",
    "                            map_att[LH_Joint]-baseAtt,\\\n",
    "                            map_def[LH_Joint]-baseDef,\\\n",
    "                            map_level[LH_Joint]]).T\n",
    "\n",
    "\n",
    "\n",
    "print possible_STATDELV\n",
    "\n",
    "#sortedInd=np.lexsort((T_possible_STATDELV[1],T_possible_STATDELV[0],\\\n",
    "#                      T_possible_STATDELV[2],T_possible_STATDELV[3]))\n",
    "\n",
    "print \"\\nAll possible combinations:\"\n",
    "for vals in possible_STATDELV:\n",
    "    print \"level:\", vals[3], \\\n",
    "        \"ivs: stamina: \", vals[0], \\\n",
    "        \"attack: \", vals[1], \\\n",
    "        \"defense: \",vals[2]                                             "
   ]
  },
  {
   "cell_type": "code",
   "execution_count": 7,
   "metadata": {
    "collapsed": false
   },
   "outputs": [
    {
     "ename": "NameError",
     "evalue": "name 'levelToStardust' is not defined",
     "output_type": "error",
     "traceback": [
      "\u001b[0;31m---------------------------------------------------------------------------\u001b[0m",
      "\u001b[0;31mNameError\u001b[0m                                 Traceback (most recent call last)",
      "\u001b[0;32m<ipython-input-7-817c4bd5758c>\u001b[0m in \u001b[0;36m<module>\u001b[0;34m()\u001b[0m\n\u001b[1;32m      9\u001b[0m \u001b[0mHPtoIndex\u001b[0m\u001b[0;34m=\u001b[0m\u001b[0mdict\u001b[0m\u001b[0;34m(\u001b[0m\u001b[0mzip\u001b[0m\u001b[0;34m(\u001b[0m\u001b[0mmap1d_HP\u001b[0m\u001b[0;34m,\u001b[0m\u001b[0mnp\u001b[0m\u001b[0;34m.\u001b[0m\u001b[0marange\u001b[0m\u001b[0;34m(\u001b[0m\u001b[0mlen\u001b[0m\u001b[0;34m(\u001b[0m\u001b[0mmap1d_HP\u001b[0m\u001b[0;34m)\u001b[0m\u001b[0;34m,\u001b[0m\u001b[0mdtype\u001b[0m\u001b[0;34m=\u001b[0m\u001b[0;34m'float'\u001b[0m\u001b[0;34m)\u001b[0m\u001b[0;34m)\u001b[0m\u001b[0;34m)\u001b[0m\u001b[0;34m\u001b[0m\u001b[0m\n\u001b[1;32m     10\u001b[0m \u001b[0;34m\u001b[0m\u001b[0m\n\u001b[0;32m---> 11\u001b[0;31m \u001b[0mmap1d_SD\u001b[0m\u001b[0;34m=\u001b[0m\u001b[0mnp\u001b[0m\u001b[0;34m.\u001b[0m\u001b[0msort\u001b[0m\u001b[0;34m(\u001b[0m\u001b[0mnp\u001b[0m\u001b[0;34m.\u001b[0m\u001b[0marray\u001b[0m\u001b[0;34m(\u001b[0m\u001b[0mlist\u001b[0m\u001b[0;34m(\u001b[0m\u001b[0mset\u001b[0m\u001b[0;34m(\u001b[0m\u001b[0mnp\u001b[0m\u001b[0;34m.\u001b[0m\u001b[0marray\u001b[0m\u001b[0;34m(\u001b[0m                    \u001b[0;34m[\u001b[0m\u001b[0mlevelToStardust\u001b[0m\u001b[0;34m[\u001b[0m\u001b[0mlvl\u001b[0m\u001b[0;34m]\u001b[0m \u001b[0;32mfor\u001b[0m \u001b[0mlvl\u001b[0m \u001b[0;32min\u001b[0m \u001b[0mmap1d_level\u001b[0m\u001b[0;34m]\u001b[0m\u001b[0;34m,\u001b[0m\u001b[0mdtype\u001b[0m\u001b[0;34m=\u001b[0m\u001b[0;34m'float'\u001b[0m\u001b[0;34m)\u001b[0m\u001b[0;34m)\u001b[0m\u001b[0;34m)\u001b[0m\u001b[0;34m)\u001b[0m\u001b[0;34m)\u001b[0m\u001b[0;34m\u001b[0m\u001b[0m\n\u001b[0m\u001b[1;32m     12\u001b[0m \u001b[0mSDtoIndex\u001b[0m\u001b[0;34m=\u001b[0m\u001b[0mdict\u001b[0m\u001b[0;34m(\u001b[0m\u001b[0mzip\u001b[0m\u001b[0;34m(\u001b[0m\u001b[0mmap1d_SD\u001b[0m\u001b[0;34m,\u001b[0m \u001b[0mnp\u001b[0m\u001b[0;34m.\u001b[0m\u001b[0marange\u001b[0m\u001b[0;34m(\u001b[0m\u001b[0mlen\u001b[0m\u001b[0;34m(\u001b[0m\u001b[0mmap1d_SD\u001b[0m\u001b[0;34m)\u001b[0m\u001b[0;34m,\u001b[0m\u001b[0mdtype\u001b[0m\u001b[0;34m=\u001b[0m\u001b[0;34m'float'\u001b[0m\u001b[0;34m)\u001b[0m\u001b[0;34m)\u001b[0m\u001b[0;34m)\u001b[0m\u001b[0;34m\u001b[0m\u001b[0m\n\u001b[1;32m     13\u001b[0m \u001b[0;34m\u001b[0m\u001b[0m\n",
      "\u001b[0;31mNameError\u001b[0m: name 'levelToStardust' is not defined"
     ]
    }
   ],
   "source": [
    "## Working out probabilities of finding these data values randomly\n",
    "\n",
    "\n",
    "#Setting up the real CP/HP/SD values, their indices and a dictionary\n",
    "map1d_CP=np.arange(800,dtype='float')+10\n",
    "CPtoIndex=dict(zip(map1d_CP,np.arange(len(map1d_CP),dtype='float')))\n",
    "               \n",
    "map1d_HP=np.arange(200,dtype='float')+10\n",
    "HPtoIndex=dict(zip(map1d_HP,np.arange(len(map1d_HP),dtype='float')))\n",
    "\n",
    "map1d_SD=np.sort(np.array(list(set(np.array(\\\n",
    "                    [levelToStardust[lvl] for lvl in map1d_level],dtype='float')))))\n",
    "SDtoIndex=dict(zip(map1d_SD, np.arange(len(map1d_SD),dtype='float')))\n",
    "\n",
    "\n",
    "countsCPHPSD=np.zeros((map1d_CP.shape[0],map1d_HP.shape[0],map1d_SD.shape[0]),dtype=\"float\")\n",
    "\n",
    "flatCP=allPossibleCP.flatten()\n",
    "flatHP=allPossibleHP.flatten()\n",
    "flatSD=allPossibleSD.flatten()\n",
    "\n",
    "\n",
    "flatCPHPSD=np.array([flatCP,flatHP,flatSD]).T\n",
    "\n",
    "\n",
    "print \"\\n\\ncalculating bayesian evidence??? (few seconds)\"\n",
    "for CPHPSD in flatCPHPSD:\n",
    "    #print CPtoIndex[CPHPSD[0]], HPtoIndex[CPHPSD[1]],SDtoIndex[CPHPSD[2]]\n",
    "    countsCPHPSD[ CPtoIndex[CPHPSD[0]] , HPtoIndex[CPHPSD[1]] , SDtoIndex[CPHPSD[2]] ] +=1\n",
    "\n",
    "#marginalise\n",
    "countsCPHPSD/=np.sum(countsCPHPSD)\n",
    "\n",
    "#Collapse counts down along axes)\n",
    "countsCP=[np.sum(countsCPHPSD[i,:,:]) for i in range(len(countsCPHPSD[:,0,0]))]\n",
    "countsHP=[np.sum(countsCPHPSD[:,i,:]) for i in range(len(countsCPHPSD[0,:,0]))]\n",
    "countsSD=[np.sum(countsCPHPSD[:,:,i]) for i in range(len(countsCPHPSD[0,0,:]))]\n",
    "\n",
    "\n",
    "plt.plot(map1d_CP,countsCP)\n",
    "plt.show()\n",
    "\n",
    "plt.plot(map1d_HP,countsHP)\n",
    "plt.show()\n",
    "\n",
    "plt.plot(map1d_SD,countsSD)\n",
    "plt.show()"
   ]
  },
  {
   "cell_type": "code",
   "execution_count": null,
   "metadata": {
    "collapsed": true
   },
   "outputs": [],
   "source": []
  }
 ],
 "metadata": {
  "kernelspec": {
   "display_name": "Python 2",
   "language": "python",
   "name": "python2"
  },
  "language_info": {
   "codemirror_mode": {
    "name": "ipython",
    "version": 2
   },
   "file_extension": ".py",
   "mimetype": "text/x-python",
   "name": "python",
   "nbconvert_exporter": "python",
   "pygments_lexer": "ipython2",
   "version": "2.7.10"
  }
 },
 "nbformat": 4,
 "nbformat_minor": 0
}
