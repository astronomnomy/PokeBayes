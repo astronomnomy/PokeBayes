{
 "cells": [
  {
   "cell_type": "markdown",
   "metadata": {},
   "source": [
    "Currently the requirements to get IV estimates are:\n",
    " - Your player level (which must remain constant as you're leveling this pokémon)\n",
    " - The pokémon's CP, HP, and stardust requirements for the next level\n",
    " - Every additional line of data added must be from only one power up (i.e. don't power up many times without also including those values in the table\n",
    " \n",
    " In the near future I'll add the ability to:\n",
    " - Specify the pokémon's level or a range of levels to add in as a prior (e.g. your guess from the CP arc)\n",
    " - Indicate you're missing some data on particular power-up levels\n",
    " - Indicate that you're missing an unknown number of power up levels \n"
   ]
  },
  {
   "cell_type": "markdown",
   "metadata": {},
   "source": [
    "### What is your player level?"
   ]
  },
  {
   "cell_type": "code",
   "execution_count": 47,
   "metadata": {
    "collapsed": false
   },
   "outputs": [],
   "source": [
    "player_level = 40"
   ]
  },
  {
   "cell_type": "markdown",
   "metadata": {},
   "source": [
    "### What is the pokémon's name? (type in quote marks)"
   ]
  },
  {
   "cell_type": "code",
   "execution_count": 48,
   "metadata": {
    "collapsed": true
   },
   "outputs": [],
   "source": [
    "pokemonName= \"sandshrew\"\n",
    "#pokemonName= \"scyther\"\n",
    "#pokemonName= \"lapras\"\n",
    "pokemonName= \"pidgey\"\n",
    "#pokemonName= \"rhyhorn\"\n",
    "#pokemonName= \"squirtle\"\n",
    "#pokemonName= \"magikarp\"\n",
    "#pokemonName= \"weepingbell\"\n",
    "#pokemonName= \"hypno\""
   ]
  },
  {
   "cell_type": "markdown",
   "metadata": {},
   "source": [
    "### Datasets! Put in the pokémon's CP, HP, and stardust to level "
   ]
  },
  {
   "cell_type": "code",
   "execution_count": 49,
   "metadata": {
    "collapsed": false
   },
   "outputs": [],
   "source": [
    "dataset=[(232,42,1900)] #pidgey\n",
    "dataset=[(1095,131,1600)] #evil lapras\n",
    "dataset=[(219,47,1000), #mudball Jnr lv 1\n",
    "        (230,48,1000), #mudball Jnr lv 2\n",
    "        (241,50,1300)] #mudball Jnr lv 3\n",
    "dataset=[(287,36,1900)] #ekans1\n",
    "dataset=[(246,35,1300)] #ekans2\n",
    "dataset=[(174,53,600), #rhyhorn lv 1\n",
    "        (191,55,600), #rhyhorn lv 2\n",
    "        (209,58,600), #rhyhorn lv 3\n",
    "        (226,60,800)] #rhyhorn lv 4\n",
    "dataset=[(727,83,1300), #Hypno lv 1\n",
    "        (758,85,1300), #Hypno lv 2\n",
    "        (788,87,1600)] #Hypno lv 3\n",
    "#dataset=[(540,60,1300), #Weepingbell lv 1\n",
    "#        (563,61,1300), #Weepingbell lv 2\n",
    "#        (585,62,1600)] #Weepingbell lv 3\n",
    "dataset=[(237,45,1600), #pidgey lv 1\n",
    "        (246,46,1600), #pidgey lv 2\n",
    "        (255,47,1600), #pidgey lv 3\n",
    "        (264,48,1600), #pidgey lv 4\n",
    "        (273,49,1900), #pidgey lv 5 (I had CP 272 down probably a typo)\n",
    "        (283,49,1900), #pidgey lv 6\n",
    "        (292,50,1900), #pidgey lv 7\n",
    "        (301,51,1900)] #pidgey lv 8 (but can't level)\n",
    "#dataset=[(1047,81,2500)] #scyther\n",
    "#dataset=[(577,63,3000)] #squirtle\n",
    "#dataset=[(54,19,800)] #magikarp"
   ]
  },
  {
   "cell_type": "markdown",
   "metadata": {},
   "source": [
    "##### Code is going to chug along now"
   ]
  },
  {
   "cell_type": "code",
   "execution_count": 51,
   "metadata": {
    "collapsed": false
   },
   "outputs": [
    {
     "name": "stdout",
     "output_type": "stream",
     "text": [
      "max possible CP for any pidgey 679.0\n",
      "max possible HP for any pidgey 75.0\n",
      "\n",
      "Number of possible stamina, attack and defense ivs, and levels:  1\n",
      "\n",
      "All possible combinations:\n",
      "level: 16.5   ivs: stamina:  15   attack: 11   defense: 10   probability: 100.0 %\n",
      "\n",
      "\n",
      "Probability of perfect ivs (given any possible level):  0.0 %\n",
      "Probability of two perfect ivs (given any possible level):  0.0 %\n",
      "Probability of one perfect iv (given any possible level):  100.0 %\n",
      "Probability of three 14/15 ivs (given any possible level):  0.0 %\n",
      "Probability of two 14/15 ivs (given any possible level):  0.0 %\n",
      "\n",
      "Now considering on a level-by-level basis: \n",
      "Possible IVs for level 16.5:\n"
     ]
    },
    {
     "data": {
      "text/plain": [
       "<matplotlib.figure.Figure at 0x1102aea50>"
      ]
     },
     "metadata": {},
     "output_type": "display_data"
    },
    {
     "data": {
      "image/png": "[encoded data removed]",
      "text/plain": [
       "<matplotlib.figure.Figure at 0x10dccf390>"
      ]
     },
     "metadata": {},
     "output_type": "display_data"
    }
   ],
   "source": [
    "%matplotlib inline\n",
    "import numpy as np\n",
    "import matplotlib.pyplot as plt\n",
    "import viridis\n",
    "plt.register_cmap(name='viridis', cmap=viridis.viridis)\n",
    "plt.set_cmap(viridis.viridis)\n",
    "import pokedicts as pd\n",
    "\n",
    "\n",
    "#HP IV calc is easiest\n",
    "#HP = MAX(10,FLOOR((basestamina + ivstamina)*TotalCPMultiplier)) (is it floored/10?)\n",
    "\n",
    "#CP = MAX(10,FLOOR(HP**0.5*Attack*Def**0.5/10))\n",
    "#where\n",
    "#Attack = (baseatt + ivatt)*TotalCPMultiplier\n",
    "#Defense= (basedef + ivdef)*TotalCPMultiplier\n",
    "\n",
    "#CP= MAX(10,FLOOR( (basesta+ivsta)**2 * (basedef+ivatt) * (basedef+ivdef)**2 ) * TCpM**2/10)\n",
    "#CP=f(ivsta,ivatt,ivdef,level)\n",
    "#HP=g(ivsta,level)\n",
    "\n",
    "#I can calculate p(CP|ivsta,ivatt,ivdef,level), p(HP|ivsta,level), p(stardust|level)\n",
    "\n",
    "#Easiest thing to do would be to calculate all values? 16 x 16 x 16 x 79 pokemon levels?\n",
    "#Can do 16x16x16 itself and then use matrix multiplication to work out the other\n",
    "\n",
    "\n",
    "\n",
    "############## MODEL CONSTRUCTION (all possible results) #####################\n",
    "\n",
    "\n",
    "#fetch the data from pokemon name\n",
    "baseSta,baseAtt,baseDef=pd.pokemonToBaseStats[pokemonName.title()]\n",
    "\n",
    "# 1d map all possible pokemon levels\n",
    "map1d_level=(np.arange(79)+2.)/2.\n",
    "\n",
    "# 1d map all possible IVs\n",
    "map1d_ivatt=np.arange(16)\n",
    "map1d_ivdef=np.arange(16)\n",
    "map1d_ivsta=np.arange(16)\n",
    "\n",
    "\n",
    "#all CP modifier values, 1d and 4d\n",
    "map1d_TCpM= np.array([pd.levelToTCpM[i] for i in map1d_level])\n",
    "\n",
    "#all possible attack, def, stamina values (all possible levels)\n",
    "map1d_att=map1d_ivatt+baseAtt\n",
    "map1d_def=map1d_ivdef+baseDef\n",
    "map1d_sta=map1d_ivsta+baseSta\n",
    "\n",
    "#Making 4D array of variables and partial calculations\n",
    "map_sta, map_att, map_def, map_TCpM=np.meshgrid(map1d_sta,map1d_att,\\\n",
    "                                                 map1d_def,map1d_TCpM, indexing='ij')\n",
    "\n",
    "map_ivsta, map_ivatt, map_ivdef, map_level=np.meshgrid(map1d_ivsta,map1d_ivatt,\\\n",
    "                                                 map1d_ivdef,map1d_level, indexing='ij')\n",
    "\n",
    "\n",
    "#all possible CP values \n",
    "allPossibleCP = np.floor((map_sta**0.5*map_att*map_def**0.5*map_TCpM**2)/10.)\n",
    "allPossibleCP[allPossibleCP<10]=10\n",
    "\n",
    "#all possible HP values\n",
    "allPossibleHP =np.floor(map_sta*map_TCpM) \n",
    "allPossibleHP[allPossibleHP<10]=10\n",
    "\n",
    "#all possible Stardust values\n",
    "allPossibleSD=np.array([pd.levelToStardust[i] \\\n",
    "                        for i in map_level.ravel()]).reshape(map_level.shape)\n",
    "\n",
    "\n",
    "\n",
    "#From those three 4D arrays we have a model in StAtDeLv space tah dah\n",
    "\n",
    "\n",
    "\n",
    "\n",
    "############## INITIAL PRIOR CONSTRUCTION ##################\n",
    "#Construct initial (uninformative) prior:\n",
    "prior_STATDELV=np.ones(map_sta.shape,dtype=\"float\")\n",
    "\n",
    "#Immediately apply player level prior (could just do the stardust but want to decouple)\n",
    "prior_STATDELV[ map_level > player_level] = 0\n",
    "\n",
    "#Stardust counts as an observation so won't apply as an initial prior\n",
    "\n",
    "#normalise prior\n",
    "prior_STATDELV/=np.sum(prior_STATDELV)\n",
    "\n",
    "\n",
    "\n",
    "\n",
    "############# LOOP OVER THE DATA ####################\n",
    "\n",
    "#Fetch data from set \n",
    "for data in dataset:\n",
    "    dataCP,dataHP,dataSD=data\n",
    "\n",
    "    LH_CP=(allPossibleCP == dataCP) #this is in STATDELV space\n",
    "    LH_HP=(allPossibleHP == dataHP)\n",
    "    LH_SD=(allPossibleSD == dataSD)\n",
    "\n",
    "\n",
    "    LH_Joint=np.array(LH_CP*LH_HP*LH_SD,dtype=\"float\" )\n",
    "\n",
    "    #print np.sum(LH_CP*LH_HP)\n",
    "    #print np.sum(LH_CP*LH_SD)\n",
    "    #print np.sum(LH_HP*LH_SD)\n",
    "\n",
    "    #Fold in the previous posterior (or initial prior) as a prior \n",
    "    LH_Joint*=prior_STATDELV\n",
    "    LH_Joint/=np.sum(LH_Joint)\n",
    "\n",
    "    # Need to pass this posterior to prior_StAtDeLv, BUT with level incremented by 0.5, \n",
    "    # So shifted along one in space...\n",
    "    # Zero lv 1 first \n",
    "    prior_STATDELV[:,:,:,0]=0\n",
    "    # Copy over shifting in space \n",
    "    prior_STATDELV[:,:,:,1:]=LH_Joint[:,:,:,:-1]\n",
    "\n",
    "\n",
    "\n",
    "#Print out some fun facts from the model \n",
    "#print \"min/max possible stardust\", np.min(allPossibleSD), np.max(allPossibleSD)\n",
    "print \"max possible CP for any\",pokemonName,np.max(allPossibleCP)\n",
    "print \"max possible HP for any\",pokemonName,np.max(allPossibleHP)\n",
    "\n",
    "\n",
    "\n",
    "print \"\\nNumber of possible stamina, attack and defense ivs, and levels: \", np.sum((LH_Joint > 0))\n",
    "#Fold in the previous posterior as a prior\n",
    "\n",
    "#print \"possible iv HP values given HP:\",list(set(map_sta[LH_HP]-baseSta))\n",
    "#print \"possible iv HP values given SD:\",list(set(map_sta[LH_SD]-baseSta))\n",
    "#print \"possible levels given HP: \",list(set(map_level[LH_HP]))\n",
    "#print \"possible levels given SD: \",list(set(map_level[LH_SD]))\n",
    "\n",
    "\n",
    "############## Finding Different Stats :) ################\n",
    "\n",
    "LH_ind=np.where(LH_Joint > 0)\n",
    "#find all cominations of ivs and lvs\n",
    "possible_STATDELV=np.array([map_ivsta[LH_ind],\\\n",
    "                            map_ivatt[LH_ind],\\\n",
    "                            map_ivdef[LH_ind],\\\n",
    "                            map_level[LH_ind]]).T\n",
    "\n",
    "\n",
    "\n",
    "print \"\\nAll possible combinations:\"\n",
    "for i, vals in enumerate(possible_STATDELV):\n",
    "    print \"level:\", vals[3], \\\n",
    "        \"  ivs: stamina: \", int(vals[0]), \\\n",
    "        \"  attack:\", int(vals[1]), \\\n",
    "        \"  defense:\",int(vals[2]), \\\n",
    "        \"  probability:\",np.round(LH_Joint[LH_ind[0][i],LH_ind[1][i],LH_ind[2][i],LH_ind[3][i]]*100,3),'%'\n",
    "        \n",
    "#Perfect IVs\n",
    "print \"\\n\\nProbability of perfect ivs (given any possible level): \",\\\n",
    "                    np.round(np.sum(LH_Joint[15,15,15,:])*100 , 3),'%'\n",
    "    \n",
    "#Two perfect IVs \n",
    "test_ind=np.where(((map_ivsta==15) & (map_ivatt==15)) |\\\n",
    "                  ((map_ivsta==15) & (map_ivdef==15)) |\\\n",
    "                  ((map_ivatt==15) & (map_ivdef==15)))\n",
    "print \"Probability of two perfect ivs (given any possible level): \",\\\n",
    "                    np.round(100*np.sum(LH_Joint[test_ind]), 3),'%'\n",
    "\n",
    "#One perfect IV\n",
    "test_ind=np.where(  (map_ivsta==15) | (map_ivatt==15) | (map_ivdef==15)  )\n",
    "print \"Probability of one perfect iv (given any possible level): \",\\\n",
    "                    np.round(100*np.sum(LH_Joint[test_ind]), 3),'%'\n",
    "\n",
    "#Three top two IVs\n",
    "test_ind=np.where(  (map_ivsta>=14) & (map_ivatt>=14) & (map_ivdef>=14)  )\n",
    "print \"Probability of three 14/15 ivs (given any possible level): \",\\\n",
    "                    np.round(100*np.sum(LH_Joint[test_ind]), 3),'%'\n",
    "\n",
    "#Two top two IVs\n",
    "test_ind=np.where(((map_ivsta>=14) & (map_ivatt>=14)) |\\\n",
    "                  ((map_ivsta>=14) & (map_ivdef>=14)) |\\\n",
    "                  ((map_ivatt>=14) & (map_ivdef>=14)))\n",
    "print \"Probability of two 14/15 ivs (given any possible level): \",\\\n",
    "                    np.round(100*np.sum(LH_Joint[test_ind]), 3),'%'\n",
    "\n",
    "\n",
    "\n",
    "\n",
    "\n",
    "#Giving stats for each level     \n",
    "print \"\\nNow considering on a level-by-level basis: \"\n",
    "for lv in np.sort(list(set(map_level[LH_ind]))):\n",
    "    print \"Possible IVs for level \"+str(lv)+\":\"\n",
    "    plt.figure(figsize=(10,10))\n",
    "    ###sta vs att\n",
    "    plt.subplot(1,3,1)\n",
    "    plt.imshow(np.sum(LH_Joint[:,:,:,int((lv-1)*2)]*100,axis=2),\\\n",
    "               interpolation=\"None\",origin=\"lower\")\n",
    "    plt.xlabel(\"iv Att\")\n",
    "    plt.ylabel(\"iv Sta\")\n",
    "\n",
    "    ###sta vs def\n",
    "    plt.subplot(1,3,2)\n",
    "    plt.imshow(np.sum(LH_Joint[:,:,:,int((lv-1)*2)]*100,axis=1),\\\n",
    "               interpolation=\"None\",origin=\"lower\")\n",
    "    plt.xlabel(\"iv Def\")\n",
    "    plt.ylabel(\"iv Sta\")\n",
    "    \n",
    "    ###att vs def\n",
    "    plt.subplot(1,3,3)\n",
    "    plt.imshow(np.sum(LH_Joint[:,:,:,int((lv-1)*2)]*100,axis=0),\\\n",
    "               interpolation=\"None\",origin=\"lower\")\n",
    "    plt.xlabel(\"iv Def\")\n",
    "    plt.ylabel(\"iv Att\")\n",
    "    plt.tight_layout()\n",
    "    plt.show()\n",
    "    \n",
    "    "
   ]
  },
  {
   "cell_type": "markdown",
   "metadata": {},
   "source": [
    "## Everything below is broken uncommented trash atm"
   ]
  },
  {
   "cell_type": "code",
   "execution_count": 6,
   "metadata": {
    "collapsed": false,
    "scrolled": true
   },
   "outputs": [
    {
     "name": "stdout",
     "output_type": "stream",
     "text": [
      "\n",
      "\n",
      "calculating bayesian evidence??? (few seconds)\n"
     ]
    },
    {
     "name": "stderr",
     "output_type": "stream",
     "text": [
      "/Library/Python/2.7/site-packages/ipykernel/__main__.py:28: DeprecationWarning: using a non-integer number instead of an integer will result in an error in the future\n"
     ]
    },
    {
     "ename": "KeyError",
     "evalue": "817.0",
     "output_type": "error",
     "traceback": [
      "\u001b[0;31m---------------------------------------------------------------------------\u001b[0m",
      "\u001b[0;31mKeyError\u001b[0m                                  Traceback (most recent call last)",
      "\u001b[0;32m<ipython-input-6-1f321a86bd01>\u001b[0m in \u001b[0;36m<module>\u001b[0;34m()\u001b[0m\n\u001b[1;32m     26\u001b[0m \u001b[0;32mfor\u001b[0m \u001b[0mCPHPSD\u001b[0m \u001b[0;32min\u001b[0m \u001b[0mflatCPHPSD\u001b[0m\u001b[0;34m:\u001b[0m\u001b[0;34m\u001b[0m\u001b[0m\n\u001b[1;32m     27\u001b[0m     \u001b[0;31m#print CPtoIndex[CPHPSD[0]], HPtoIndex[CPHPSD[1]],SDtoIndex[CPHPSD[2]]\u001b[0m\u001b[0;34m\u001b[0m\u001b[0;34m\u001b[0m\u001b[0m\n\u001b[0;32m---> 28\u001b[0;31m     \u001b[0mcountsCPHPSD\u001b[0m\u001b[0;34m[\u001b[0m \u001b[0mCPtoIndex\u001b[0m\u001b[0;34m[\u001b[0m\u001b[0mCPHPSD\u001b[0m\u001b[0;34m[\u001b[0m\u001b[0;36m0\u001b[0m\u001b[0;34m]\u001b[0m\u001b[0;34m]\u001b[0m \u001b[0;34m,\u001b[0m \u001b[0mHPtoIndex\u001b[0m\u001b[0;34m[\u001b[0m\u001b[0mCPHPSD\u001b[0m\u001b[0;34m[\u001b[0m\u001b[0;36m1\u001b[0m\u001b[0;34m]\u001b[0m\u001b[0;34m]\u001b[0m \u001b[0;34m,\u001b[0m \u001b[0mSDtoIndex\u001b[0m\u001b[0;34m[\u001b[0m\u001b[0mCPHPSD\u001b[0m\u001b[0;34m[\u001b[0m\u001b[0;36m2\u001b[0m\u001b[0;34m]\u001b[0m\u001b[0;34m]\u001b[0m \u001b[0;34m]\u001b[0m \u001b[0;34m+=\u001b[0m\u001b[0;36m1\u001b[0m\u001b[0;34m\u001b[0m\u001b[0m\n\u001b[0m\u001b[1;32m     29\u001b[0m \u001b[0;34m\u001b[0m\u001b[0m\n\u001b[1;32m     30\u001b[0m \u001b[0;31m#marginalise\u001b[0m\u001b[0;34m\u001b[0m\u001b[0;34m\u001b[0m\u001b[0m\n",
      "\u001b[0;31mKeyError\u001b[0m: 817.0"
     ]
    }
   ],
   "source": [
    "## Working out probabilities of finding these data values randomly\n",
    "\n",
    "\n",
    "#Setting up the real CP/HP/SD values, their indices and a dictionary\n",
    "map1d_CP=np.arange(800,dtype='float')+10\n",
    "CPtoIndex=dict(zip(map1d_CP,np.arange(len(map1d_CP),dtype='float')))\n",
    "               \n",
    "map1d_HP=np.arange(200,dtype='float')+10\n",
    "HPtoIndex=dict(zip(map1d_HP,np.arange(len(map1d_HP),dtype='float')))\n",
    "\n",
    "map1d_SD=np.sort(np.array(list(set(np.array(\\\n",
    "                    [pd.levelToStardust[lvl] for lvl in map1d_level],dtype='float')))))\n",
    "SDtoIndex=dict(zip(map1d_SD, np.arange(len(map1d_SD),dtype='float')))\n",
    "\n",
    "\n",
    "countsCPHPSD=np.zeros((map1d_CP.shape[0],map1d_HP.shape[0],map1d_SD.shape[0]),dtype=\"float\")\n",
    "\n",
    "flatCP=allPossibleCP.flatten()\n",
    "flatHP=allPossibleHP.flatten()\n",
    "flatSD=allPossibleSD.flatten()\n",
    "\n",
    "\n",
    "flatCPHPSD=np.array([flatCP,flatHP,flatSD]).T\n",
    "\n",
    "\n",
    "print \"\\n\\ncalculating bayesian evidence??? (few seconds)\"\n",
    "for CPHPSD in flatCPHPSD:\n",
    "    #print CPtoIndex[CPHPSD[0]], HPtoIndex[CPHPSD[1]],SDtoIndex[CPHPSD[2]]\n",
    "    countsCPHPSD[ CPtoIndex[CPHPSD[0]] , HPtoIndex[CPHPSD[1]] , SDtoIndex[CPHPSD[2]] ] +=1\n",
    "\n",
    "#marginalise\n",
    "countsCPHPSD/=np.sum(countsCPHPSD)\n",
    "\n",
    "#Collapse counts down along axes)\n",
    "countsCP=[np.sum(countsCPHPSD[i,:,:]) for i in range(len(countsCPHPSD[:,0,0]))]\n",
    "countsHP=[np.sum(countsCPHPSD[:,i,:]) for i in range(len(countsCPHPSD[0,:,0]))]\n",
    "countsSD=[np.sum(countsCPHPSD[:,:,i]) for i in range(len(countsCPHPSD[0,0,:]))]\n",
    "\n",
    "\n",
    "plt.plot(map1d_CP,countsCP)\n",
    "plt.show()\n",
    "\n",
    "plt.plot(map1d_HP,countsHP)\n",
    "plt.show()\n",
    "\n",
    "plt.plot(map1d_SD,countsSD)\n",
    "plt.show()"
   ]
  },
  {
   "cell_type": "code",
   "execution_count": null,
   "metadata": {
    "collapsed": true
   },
   "outputs": [],
   "source": []
  }
 ],
 "metadata": {
  "kernelspec": {
   "display_name": "Python 2",
   "language": "python",
   "name": "python2"
  },
  "language_info": {
   "codemirror_mode": {
    "name": "ipython",
    "version": 2
   },
   "file_extension": ".py",
   "mimetype": "text/x-python",
   "name": "python",
   "nbconvert_exporter": "python",
   "pygments_lexer": "ipython2",
   "version": "2.7.10"
  }
 },
 "nbformat": 4,
 "nbformat_minor": 0
}
